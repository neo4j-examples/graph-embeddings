{
 "cells": [
  {
   "cell_type": "markdown",
   "id": "3c7a5a96-bc13-4fb7-b92c-6c7b80340556",
   "metadata": {},
   "source": [
    "# Visualizing FastRP Embeddings\n",
    "\n",
    "In this notebook we will visualize graph embeddings created by the FastRP algorithm. "
   ]
  },
  {
   "cell_type": "code",
   "execution_count": 1,
   "id": "854dedfe-198b-458a-b67a-013d77780851",
   "metadata": {},
   "outputs": [],
   "source": [
    "from neo4j import GraphDatabase\n",
    "from sklearn.manifold import TSNE\n",
    "import numpy as np\n",
    "import altair as alt\n",
    "import pandas as pd"
   ]
  },
  {
   "cell_type": "markdown",
   "id": "dc4eb8a3-4e9e-4ebb-b8cc-8116de0ffc52",
   "metadata": {},
   "source": [
    "### The following establishes a connection to the Neo4j database.\n",
    "\n",
    "This can be hosted locally or in the cloud.  Adjust the `uri` and `pwd` variables below appropriately."
   ]
  },
  {
   "cell_type": "code",
   "execution_count": 2,
   "id": "4674ea0f-0563-4462-a993-0704d942d222",
   "metadata": {},
   "outputs": [],
   "source": [
    "class Neo4jConnection:\n",
    "    \n",
    "    def __init__(self, uri, user, pwd):\n",
    "        self.__uri = uri\n",
    "        self.__user = user\n",
    "        self.__pwd = pwd\n",
    "        self.__driver = None\n",
    "        try:\n",
    "            self.__driver = GraphDatabase.driver(self.__uri, auth=(self.__user, self.__pwd))\n",
    "        except Exception as e:\n",
    "            print(\"Failed to create the driver:\", e)\n",
    "        \n",
    "    def close(self):\n",
    "        if self.__driver is not None:\n",
    "            self.__driver.close()\n",
    "        \n",
    "    def query(self, query, parameters=None, db=None):\n",
    "        assert self.__driver is not None, \"Driver not initialized!\"\n",
    "        session = None\n",
    "        response = None\n",
    "        try: \n",
    "            session = self.__driver.session(database=db) if db is not None else self.__driver.session() \n",
    "            response = list(session.run(query, parameters))\n",
    "        except Exception as e:\n",
    "            print(\"Query failed:\", e)\n",
    "        finally: \n",
    "            if session is not None:\n",
    "                session.close()\n",
    "        return response"
   ]
  },
  {
   "cell_type": "code",
   "execution_count": 13,
   "id": "3c08f346-fcbb-4a07-af21-c70317e974c8",
   "metadata": {},
   "outputs": [
    {
     "data": {
      "text/plain": [
       "[<Record count=933>]"
      ]
     },
     "execution_count": 13,
     "metadata": {},
     "output_type": "execute_result"
    }
   ],
   "source": [
    "uri = ''\n",
    "pwd = ''\n",
    "\n",
    "conn = Neo4jConnection(uri=uri, user=\"neo4j\", pwd=pwd)\n",
    "conn.query('MATCH (n) RETURN COUNT(n) AS count')"
   ]
  },
  {
   "cell_type": "markdown",
   "id": "790865a2-3e8d-48b8-ba23-317f9be998b3",
   "metadata": {},
   "source": [
    "## Import the data from the database\n",
    "\n",
    "Here we choose a limited number of countries for the sake of the ease of visualization."
   ]
  },
  {
   "cell_type": "code",
   "execution_count": 28,
   "id": "b37e4fea-0c28-4259-bca3-e67fa4daee18",
   "metadata": {},
   "outputs": [
    {
     "data": {
      "text/html": [
       "<div>\n",
       "<style scoped>\n",
       "    .dataframe tbody tr th:only-of-type {\n",
       "        vertical-align: middle;\n",
       "    }\n",
       "\n",
       "    .dataframe tbody tr th {\n",
       "        vertical-align: top;\n",
       "    }\n",
       "\n",
       "    .dataframe thead th {\n",
       "        text-align: right;\n",
       "    }\n",
       "</style>\n",
       "<table border=\"1\" class=\"dataframe\">\n",
       "  <thead>\n",
       "    <tr style=\"text-align: right;\">\n",
       "      <th></th>\n",
       "      <th>place</th>\n",
       "      <th>embedding</th>\n",
       "      <th>country</th>\n",
       "    </tr>\n",
       "  </thead>\n",
       "  <tbody>\n",
       "    <tr>\n",
       "      <th>0</th>\n",
       "      <td>Manchester</td>\n",
       "      <td>[-0.015820825472474098, 0.03900183364748955, -...</td>\n",
       "      <td>GB</td>\n",
       "    </tr>\n",
       "    <tr>\n",
       "      <th>1</th>\n",
       "      <td>Dover</td>\n",
       "      <td>[0.028780877590179443, -0.08504947274923325, 0...</td>\n",
       "      <td>GB</td>\n",
       "    </tr>\n",
       "    <tr>\n",
       "      <th>2</th>\n",
       "      <td>Craigavon</td>\n",
       "      <td>[0.05607718229293823, -0.0077710277400910854, ...</td>\n",
       "      <td>GB</td>\n",
       "    </tr>\n",
       "    <tr>\n",
       "      <th>3</th>\n",
       "      <td>Kingston upon Hull</td>\n",
       "      <td>[0.09304574877023697, 0.03708397597074509, -0....</td>\n",
       "      <td>GB</td>\n",
       "    </tr>\n",
       "    <tr>\n",
       "      <th>4</th>\n",
       "      <td>Fishguard</td>\n",
       "      <td>[0.07234527170658112, -0.13793089985847473, 0....</td>\n",
       "      <td>GB</td>\n",
       "    </tr>\n",
       "  </tbody>\n",
       "</table>\n",
       "</div>"
      ],
      "text/plain": [
       "                place                                          embedding  \\\n",
       "0          Manchester  [-0.015820825472474098, 0.03900183364748955, -...   \n",
       "1               Dover  [0.028780877590179443, -0.08504947274923325, 0...   \n",
       "2           Craigavon  [0.05607718229293823, -0.0077710277400910854, ...   \n",
       "3  Kingston upon Hull  [0.09304574877023697, 0.03708397597074509, -0....   \n",
       "4           Fishguard  [0.07234527170658112, -0.13793089985847473, 0....   \n",
       "\n",
       "  country  \n",
       "0      GB  \n",
       "1      GB  \n",
       "2      GB  \n",
       "3      GB  \n",
       "4      GB  "
      ]
     },
     "execution_count": 28,
     "metadata": {},
     "output_type": "execute_result"
    }
   ],
   "source": [
    "query = '''MATCH (p:Place)-[:IN_COUNTRY]->(country)\n",
    "           WHERE country.code IN [\"E\", \"GB\", \"F\", \"TR\", \"I\", \"D\", \"GR\"]\n",
    "           RETURN p.name AS place, p.embedding AS embedding, country.code AS country\n",
    "'''\n",
    "\n",
    "df = pd.DataFrame([dict(_) for _ in conn.query(query)])\n",
    "df.head()"
   ]
  },
  {
   "cell_type": "markdown",
   "id": "0426028d-138f-430e-849a-d9e78249958d",
   "metadata": {},
   "source": [
    "## Visualization through t-Distributed Stochastic Neighbor Embedding (t-SNE)"
   ]
  },
  {
   "cell_type": "code",
   "execution_count": 29,
   "id": "eec83132-8e53-4c93-9e36-32928a81dd46",
   "metadata": {},
   "outputs": [
    {
     "data": {
      "text/html": [
       "<div>\n",
       "<style scoped>\n",
       "    .dataframe tbody tr th:only-of-type {\n",
       "        vertical-align: middle;\n",
       "    }\n",
       "\n",
       "    .dataframe tbody tr th {\n",
       "        vertical-align: top;\n",
       "    }\n",
       "\n",
       "    .dataframe thead th {\n",
       "        text-align: right;\n",
       "    }\n",
       "</style>\n",
       "<table border=\"1\" class=\"dataframe\">\n",
       "  <thead>\n",
       "    <tr style=\"text-align: right;\">\n",
       "      <th></th>\n",
       "      <th>place</th>\n",
       "      <th>country</th>\n",
       "      <th>x</th>\n",
       "      <th>y</th>\n",
       "    </tr>\n",
       "  </thead>\n",
       "  <tbody>\n",
       "    <tr>\n",
       "      <th>0</th>\n",
       "      <td>Manchester</td>\n",
       "      <td>GB</td>\n",
       "      <td>34.920330</td>\n",
       "      <td>-9.860373</td>\n",
       "    </tr>\n",
       "    <tr>\n",
       "      <th>1</th>\n",
       "      <td>Dover</td>\n",
       "      <td>GB</td>\n",
       "      <td>21.830750</td>\n",
       "      <td>-12.030138</td>\n",
       "    </tr>\n",
       "    <tr>\n",
       "      <th>2</th>\n",
       "      <td>Craigavon</td>\n",
       "      <td>GB</td>\n",
       "      <td>-14.447485</td>\n",
       "      <td>-21.973227</td>\n",
       "    </tr>\n",
       "    <tr>\n",
       "      <th>3</th>\n",
       "      <td>Kingston upon Hull</td>\n",
       "      <td>GB</td>\n",
       "      <td>34.278549</td>\n",
       "      <td>-12.137051</td>\n",
       "    </tr>\n",
       "    <tr>\n",
       "      <th>4</th>\n",
       "      <td>Fishguard</td>\n",
       "      <td>GB</td>\n",
       "      <td>23.143465</td>\n",
       "      <td>-6.587614</td>\n",
       "    </tr>\n",
       "  </tbody>\n",
       "</table>\n",
       "</div>"
      ],
      "text/plain": [
       "                place country          x          y\n",
       "0          Manchester      GB  34.920330  -9.860373\n",
       "1               Dover      GB  21.830750 -12.030138\n",
       "2           Craigavon      GB -14.447485 -21.973227\n",
       "3  Kingston upon Hull      GB  34.278549 -12.137051\n",
       "4           Fishguard      GB  23.143465  -6.587614"
      ]
     },
     "execution_count": 29,
     "metadata": {},
     "output_type": "execute_result"
    }
   ],
   "source": [
    "X_embedded = TSNE(n_components=2, random_state=6).fit_transform(list(df.embedding))\n",
    "\n",
    "places = df.place\n",
    "tsne_df = pd.DataFrame(data = {\n",
    "    \"place\": places,\n",
    "    \"country\": df.country,\n",
    "    \"x\": [value[0] for value in X_embedded],\n",
    "    \"y\": [value[1] for value in X_embedded]\n",
    "})\n",
    "tsne_df.head()"
   ]
  },
  {
   "cell_type": "code",
   "execution_count": 30,
   "id": "343e3907-ef57-40a9-b2fd-188c5904b1a3",
   "metadata": {},
   "outputs": [
    {
     "data": {
      "text/html": [
       "\n",
       "<div id=\"altair-viz-9facb907ce194acb99b10e18a16a3f2d\"></div>\n",
       "<script type=\"text/javascript\">\n",
       "  var VEGA_DEBUG = (typeof VEGA_DEBUG == \"undefined\") ? {} : VEGA_DEBUG;\n",
       "  (function(spec, embedOpt){\n",
       "    let outputDiv = document.currentScript.previousElementSibling;\n",
       "    if (outputDiv.id !== \"altair-viz-9facb907ce194acb99b10e18a16a3f2d\") {\n",
       "      outputDiv = document.getElementById(\"altair-viz-9facb907ce194acb99b10e18a16a3f2d\");\n",
       "    }\n",
       "    const paths = {\n",
       "      \"vega\": \"https://cdn.jsdelivr.net/npm//vega@5?noext\",\n",
       "      \"vega-lib\": \"https://cdn.jsdelivr.net/npm//vega-lib?noext\",\n",
       "      \"vega-lite\": \"https://cdn.jsdelivr.net/npm//vega-lite@4.17.0?noext\",\n",
       "      \"vega-embed\": \"https://cdn.jsdelivr.net/npm//vega-embed@6?noext\",\n",
       "    };\n",
       "\n",
       "    function maybeLoadScript(lib, version) {\n",
       "      var key = `${lib.replace(\"-\", \"\")}_version`;\n",
       "      return (VEGA_DEBUG[key] == version) ?\n",
       "        Promise.resolve(paths[lib]) :\n",
       "        new Promise(function(resolve, reject) {\n",
       "          var s = document.createElement('script');\n",
       "          document.getElementsByTagName(\"head\")[0].appendChild(s);\n",
       "          s.async = true;\n",
       "          s.onload = () => {\n",
       "            VEGA_DEBUG[key] = version;\n",
       "            return resolve(paths[lib]);\n",
       "          };\n",
       "          s.onerror = () => reject(`Error loading script: ${paths[lib]}`);\n",
       "          s.src = paths[lib];\n",
       "        });\n",
       "    }\n",
       "\n",
       "    function showError(err) {\n",
       "      outputDiv.innerHTML = `<div class=\"error\" style=\"color:red;\">${err}</div>`;\n",
       "      throw err;\n",
       "    }\n",
       "\n",
       "    function displayChart(vegaEmbed) {\n",
       "      vegaEmbed(outputDiv, spec, embedOpt)\n",
       "        .catch(err => showError(`Javascript Error: ${err.message}<br>This usually means there's a typo in your chart specification. See the javascript console for the full traceback.`));\n",
       "    }\n",
       "\n",
       "    if(typeof define === \"function\" && define.amd) {\n",
       "      requirejs.config({paths});\n",
       "      require([\"vega-embed\"], displayChart, err => showError(`Error loading script: ${err.message}`));\n",
       "    } else {\n",
       "      maybeLoadScript(\"vega\", \"5\")\n",
       "        .then(() => maybeLoadScript(\"vega-lite\", \"4.17.0\"))\n",
       "        .then(() => maybeLoadScript(\"vega-embed\", \"6\"))\n",
       "        .catch(showError)\n",
       "        .then(() => displayChart(vegaEmbed));\n",
       "    }\n",
       "  })({\"config\": {\"view\": {\"continuousWidth\": 400, \"continuousHeight\": 300}}, \"data\": {\"name\": \"data-03e8c70e4acca1cb71c2ed3112515cab\"}, \"mark\": {\"type\": \"circle\", \"size\": 60}, \"encoding\": {\"color\": {\"field\": \"country\", \"type\": \"nominal\"}, \"tooltip\": [{\"field\": \"place\", \"type\": \"nominal\"}, {\"field\": \"country\", \"type\": \"nominal\"}], \"x\": {\"field\": \"x\", \"type\": \"quantitative\"}, \"y\": {\"field\": \"y\", \"type\": \"quantitative\"}}, \"height\": 400, \"width\": 700, \"$schema\": \"https://vega.github.io/schema/vega-lite/v4.17.0.json\", \"datasets\": {\"data-03e8c70e4acca1cb71c2ed3112515cab\": [{\"place\": \"Manchester\", \"country\": \"GB\", \"x\": 34.92033004760742, \"y\": -9.860373497009277}, {\"place\": \"Dover\", \"country\": \"GB\", \"x\": 21.83074951171875, \"y\": -12.03013801574707}, {\"place\": \"Craigavon\", \"country\": \"GB\", \"x\": -14.447484970092773, \"y\": -21.97322654724121}, {\"place\": \"Kingston upon Hull\", \"country\": \"GB\", \"x\": 34.27854919433594, \"y\": -12.13705062866211}, {\"place\": \"Fishguard\", \"country\": \"GB\", \"x\": 23.143465042114258, \"y\": -6.587614059448242}, {\"place\": \"Bradford\", \"country\": \"GB\", \"x\": 35.30915451049805, \"y\": -10.855242729187012}, {\"place\": \"Edinburgh\", \"country\": \"GB\", \"x\": -9.566741943359375, \"y\": -25.065773010253906}, {\"place\": \"Stranraer\", \"country\": \"GB\", \"x\": -11.860552787780762, \"y\": -21.605897903442383}, {\"place\": \"London\", \"country\": \"GB\", \"x\": 25.22520637512207, \"y\": -12.658454895019531}, {\"place\": \"Birmingham\", \"country\": \"GB\", \"x\": -3.8234646320343018, \"y\": -15.747234344482422}, {\"place\": \"Holyhead\", \"country\": \"GB\", \"x\": -6.602858543395996, \"y\": -15.291783332824707}, {\"place\": \"Colchester\", \"country\": \"GB\", \"x\": 23.70004653930664, \"y\": -14.658517837524414}, {\"place\": \"Doncaster\", \"country\": \"GB\", \"x\": 29.74584197998047, \"y\": -12.403417587280273}, {\"place\": \"Harwich\", \"country\": \"GB\", \"x\": 24.32415771484375, \"y\": -15.15079402923584}, {\"place\": \"Folkestone\", \"country\": \"GB\", \"x\": 23.3666934967041, \"y\": -12.244906425476074}, {\"place\": \"Penrith\", \"country\": \"GB\", \"x\": -7.863412380218506, \"y\": -19.638874053955078}, {\"place\": \"Greenock\", \"country\": \"GB\", \"x\": -11.397197723388672, \"y\": -23.77928924560547}, {\"place\": \"Gretna\", \"country\": \"GB\", \"x\": -10.033748626708984, \"y\": -21.588029861450195}, {\"place\": \"Newcastle upon Tyne\", \"country\": \"GB\", \"x\": -8.455252647399902, \"y\": -23.732046127319336}, {\"place\": \"Cardiff\", \"country\": \"GB\", \"x\": 24.455814361572266, \"y\": -8.142627716064453}, {\"place\": \"Immingham\", \"country\": \"GB\", \"x\": 30.096654891967773, \"y\": -11.401603698730469}, {\"place\": \"Sheffield\", \"country\": \"GB\", \"x\": 28.942880630493164, \"y\": -13.558426856994629}, {\"place\": \"Leicester\", \"country\": \"GB\", \"x\": 27.486316680908203, \"y\": -14.234793663024902}, {\"place\": \"Carlisle\", \"country\": \"GB\", \"x\": -8.863079071044922, \"y\": -21.27506446838379}, {\"place\": \"Felixstowe\", \"country\": \"GB\", \"x\": 22.762893676757812, \"y\": -17.291210174560547}, {\"place\": \"Preston\", \"country\": \"GB\", \"x\": -6.87906551361084, \"y\": -18.270109176635742}, {\"place\": \"Liverpool\", \"country\": \"GB\", \"x\": 35.458221435546875, \"y\": -8.899245262145996}, {\"place\": \"Bristol\", \"country\": \"GB\", \"x\": 25.240503311157227, \"y\": -10.75436782836914}, {\"place\": \"Perth\", \"country\": \"GB\", \"x\": -9.609566688537598, \"y\": -26.38530731201172}, {\"place\": \"Larne\", \"country\": \"GB\", \"x\": -13.318968772888184, \"y\": -21.86860466003418}, {\"place\": \"Scotch Corner\", \"country\": \"GB\", \"x\": 30.81874656677246, \"y\": -13.063191413879395}, {\"place\": \"Ipswich\", \"country\": \"GB\", \"x\": 22.6326904296875, \"y\": -16.245805740356445}, {\"place\": \"Chester\", \"country\": \"GB\", \"x\": -6.269455909729004, \"y\": -15.869586944580078}, {\"place\": \"Northampton\", \"country\": \"GB\", \"x\": 26.66737174987793, \"y\": -13.26948070526123}, {\"place\": \"Newport\", \"country\": \"GB\", \"x\": 24.92991065979004, \"y\": -9.292898178100586}, {\"place\": \"Southampton\", \"country\": \"GB\", \"x\": -1.418774127960205, \"y\": -14.536070823669434}, {\"place\": \"Cambridge\", \"country\": \"GB\", \"x\": 21.161314010620117, \"y\": -16.307565689086914}, {\"place\": \"Nottingham\", \"country\": \"GB\", \"x\": 28.438261032104492, \"y\": -14.616023063659668}, {\"place\": \"Inverness\", \"country\": \"GB\", \"x\": -9.869556427001953, \"y\": -26.993289947509766}, {\"place\": \"Swansea\", \"country\": \"GB\", \"x\": 23.801254272460938, \"y\": -7.206275939941406}, {\"place\": \"Belfast\", \"country\": \"GB\", \"x\": -13.49264144897461, \"y\": -23.073148727416992}, {\"place\": \"Warrington\", \"country\": \"GB\", \"x\": -5.598320484161377, \"y\": -16.914823532104492}, {\"place\": \"Glasgow\", \"country\": \"GB\", \"x\": -10.950065612792969, \"y\": -23.020336151123047}, {\"place\": \"Londonderry\", \"country\": \"GB\", \"x\": -14.558996200561523, \"y\": -23.038894653320312}, {\"place\": \"Leeds\", \"country\": \"GB\", \"x\": 34.19450759887695, \"y\": -11.06071949005127}, {\"place\": \"Newbury\", \"country\": \"GB\", \"x\": -2.5955612659454346, \"y\": -15.037761688232422}, {\"place\": \"Granada\", \"country\": \"E\", \"x\": 21.08596420288086, \"y\": 2.1202027797698975}, {\"place\": \"Barcelona\", \"country\": \"E\", \"x\": 9.199185371398926, \"y\": -4.3707990646362305}, {\"place\": \"Tordesillas\", \"country\": \"E\", \"x\": -27.399791717529297, \"y\": -6.960939884185791}, {\"place\": \"San Sebasti\\u00e1n\", \"country\": \"E\", \"x\": 14.867863655090332, \"y\": -8.4287748336792}, {\"place\": \"Bilbao\", \"country\": \"E\", \"x\": 16.44493865966797, \"y\": -5.329658508300781}, {\"place\": \"Logro\\u00f1o\", \"country\": \"E\", \"x\": 14.91412353515625, \"y\": -4.7480902671813965}, {\"place\": \"Burgos\", \"country\": \"E\", \"x\": 15.382420539855957, \"y\": -7.214735507965088}, {\"place\": \"Oviedo\", \"country\": \"E\", \"x\": 18.236154556274414, \"y\": -4.897315979003906}, {\"place\": \"Cord\\u00f3ba\", \"country\": \"E\", \"x\": 13.52547550201416, \"y\": -0.4470767080783844}, {\"place\": \"M\\u00e1laga\", \"country\": \"E\", \"x\": 21.941104888916016, \"y\": 2.0614206790924072}, {\"place\": \"La Coru\\u00f1a\", \"country\": \"E\", \"x\": 19.434965133666992, \"y\": -4.698831081390381}, {\"place\": \"Huelva\", \"country\": \"E\", \"x\": 14.570588111877441, \"y\": 2.0003082752227783}, {\"place\": \"L\\u00e9rida\", \"country\": \"E\", \"x\": 10.97997760772705, \"y\": -4.545020580291748}, {\"place\": \"Huesca\", \"country\": \"E\", \"x\": 13.012699127197266, \"y\": -5.537582874298096}, {\"place\": \"C\\u00e1diz\", \"country\": \"E\", \"x\": 12.706156730651855, \"y\": 1.929037094116211}, {\"place\": \"Castell\\u00f3n de la Plana\", \"country\": \"E\", \"x\": 8.985060691833496, \"y\": -1.4500290155410767}, {\"place\": \"Alicante\", \"country\": \"E\", \"x\": 9.711150169372559, \"y\": 0.7664064168930054}, {\"place\": \"Madrid\", \"country\": \"E\", \"x\": 13.01486587524414, \"y\": -2.1730799674987793}, {\"place\": \"Ja\\u00e7a\", \"country\": \"E\", \"x\": 12.87204360961914, \"y\": -6.7409467697143555}, {\"place\": \"Tarragona\", \"country\": \"E\", \"x\": 8.797906875610352, \"y\": -2.7333033084869385}, {\"place\": \"Algeciras\", \"country\": \"E\", \"x\": 11.368236541748047, \"y\": 2.1642839908599854}, {\"place\": \"Zamora\", \"country\": \"E\", \"x\": -27.367176055908203, \"y\": -6.4605021476745605}, {\"place\": \"Salamanca\", \"country\": \"E\", \"x\": 15.86423110961914, \"y\": -1.007448434829712}, {\"place\": \"Merida\", \"country\": \"E\", \"x\": 15.278244018554688, \"y\": 0.08271852135658264}, {\"place\": \"Pontevedra\", \"country\": \"E\", \"x\": 20.070560455322266, \"y\": -4.297292709350586}, {\"place\": \"Zaragoza\", \"country\": \"E\", \"x\": 13.1875581741333, \"y\": -4.340191841125488}, {\"place\": \"Sevilla\", \"country\": \"E\", \"x\": 14.083374977111816, \"y\": 1.0333887338638306}, {\"place\": \"Ver\\u00edn\", \"country\": \"E\", \"x\": -27.242223739624023, \"y\": -4.988783359527588}, {\"place\": \"Ja\\u00e9n\", \"country\": \"E\", \"x\": 21.46847152709961, \"y\": 1.3493866920471191}, {\"place\": \"Badajoz\", \"country\": \"E\", \"x\": 12.120415687561035, \"y\": -2.0151076316833496}, {\"place\": \"Gerona\", \"country\": \"E\", \"x\": 8.29947280883789, \"y\": -22.43379783630371}, {\"place\": \"Valencia\", \"country\": \"E\", \"x\": 9.943750381469727, \"y\": -0.6122927665710449}, {\"place\": \"Murcia\", \"country\": \"E\", \"x\": 10.286293029785156, \"y\": 1.8262348175048828}, {\"place\": \"Tours\", \"country\": \"F\", \"x\": 10.570460319519043, \"y\": -15.087308883666992}, {\"place\": \"Besan\\u00e7on\", \"country\": \"F\", \"x\": 4.597203731536865, \"y\": -8.12702465057373}, {\"place\": \"Chamb\\u00e9ry\", \"country\": \"F\", \"x\": 2.763340473175049, \"y\": -23.919193267822266}, {\"place\": \"M\\u00e2con\", \"country\": \"F\", \"x\": 13.41734790802002, \"y\": -16.578006744384766}, {\"place\": \"Montlu\\u00e7on\", \"country\": \"F\", \"x\": 13.374076843261719, \"y\": -13.941900253295898}, {\"place\": \"Mulhouse\", \"country\": \"F\", \"x\": 5.819928169250488, \"y\": 29.933076858520508}, {\"place\": \"Digoin\", \"country\": \"F\", \"x\": 31.949844360351562, \"y\": 2.4661552906036377}, {\"place\": \"Nantes\", \"country\": \"F\", \"x\": 11.701261520385742, \"y\": -18.14753532409668}, {\"place\": \"Lyon\", \"country\": \"F\", \"x\": 3.2007551193237305, \"y\": -21.758790969848633}, {\"place\": \"La Rochelle\", \"country\": \"F\", \"x\": 14.237887382507324, \"y\": -19.60131072998047}, {\"place\": \"Mont-Blanc\", \"country\": \"F\", \"x\": -0.4959721565246582, \"y\": -28.515932083129883}, {\"place\": \"Niort\", \"country\": \"F\", \"x\": 14.80557632446289, \"y\": -20.126144409179688}, {\"place\": \"Grenoble\", \"country\": \"F\", \"x\": 2.7481305599212646, \"y\": -20.300151824951172}, {\"place\": \"Cambrai\", \"country\": \"F\", \"x\": 3.0635263919830322, \"y\": -11.14093017578125}, {\"place\": \"Saint-Brieuc\", \"country\": \"F\", \"x\": 6.737635135650635, \"y\": -18.199716567993164}, {\"place\": \"N\\u00eemes\", \"country\": \"F\", \"x\": 7.710931777954102, \"y\": -25.23719024658203}, {\"place\": \"Belfort\", \"country\": \"F\", \"x\": 7.460451126098633, \"y\": 30.088220596313477}, {\"place\": \"Angers\", \"country\": \"F\", \"x\": 7.984027862548828, \"y\": -15.224549293518066}, {\"place\": \"Pont-d'Ain\", \"country\": \"F\", \"x\": 3.9593212604522705, \"y\": -21.051136016845703}, {\"place\": \"Rennes\", \"country\": \"F\", \"x\": 10.162895202636719, \"y\": -18.212148666381836}, {\"place\": \"Paris\", \"country\": \"F\", \"x\": 4.57407283782959, \"y\": -14.820967674255371}, {\"place\": \"Orange\", \"country\": \"F\", \"x\": 4.7870588302612305, \"y\": -22.770132064819336}, {\"place\": \"Vierzon\", \"country\": \"F\", \"x\": 11.970656394958496, \"y\": -14.243584632873535}, {\"place\": \"Reims\", \"country\": \"F\", \"x\": 3.5342979431152344, \"y\": -11.858335494995117}, {\"place\": \"Dunkerque\", \"country\": \"F\", \"x\": 25.995634078979492, \"y\": -0.9085821509361267}, {\"place\": \"Caen\", \"country\": \"F\", \"x\": 7.1706013679504395, \"y\": -17.572969436645508}, {\"place\": \"Angoul\\u00e8me\", \"country\": \"F\", \"x\": 12.86389446258545, \"y\": -11.272198677062988}, {\"place\": \"Pau\", \"country\": \"F\", \"x\": 13.236549377441406, \"y\": -8.27685832977295}, {\"place\": \"Rouen\", \"country\": \"F\", \"x\": 6.346434116363525, \"y\": -15.691545486450195}, {\"place\": \"Troyes\", \"country\": \"F\", \"x\": 7.20379638671875, \"y\": -10.549790382385254}, {\"place\": \"Toulouse\", \"country\": \"F\", \"x\": 11.97471809387207, \"y\": -9.46938705444336}, {\"place\": \"Chalon-sur-Sa\\u00f4ne\", \"country\": \"F\", \"x\": 31.86520004272461, \"y\": 2.6593031883239746}, {\"place\": \"Brest\", \"country\": \"F\", \"x\": 11.0382661819458, \"y\": -19.122238159179688}, {\"place\": \"Metz\", \"country\": \"F\", \"x\": 1.5775904655456543, \"y\": -7.207796096801758}, {\"place\": \"Longwy\", \"country\": \"F\", \"x\": 0.5871780514717102, \"y\": -7.727189540863037}, {\"place\": \"Orl\\u00e9ans\", \"country\": \"F\", \"x\": 9.577816009521484, \"y\": -13.50191879272461}, {\"place\": \"Charleville-M\\u00e9zi\\u00e8res\", \"country\": \"F\", \"x\": 0.6018965244293213, \"y\": -11.109859466552734}, {\"place\": \"Saint-Avold\", \"country\": \"F\", \"x\": 1.6315925121307373, \"y\": -5.6098761558532715}, {\"place\": \"Valenciennes\", \"country\": \"F\", \"x\": 3.813443422317505, \"y\": -13.920822143554688}, {\"place\": \"Poitiers\", \"country\": \"F\", \"x\": 12.254647254943848, \"y\": -16.426233291625977}, {\"place\": \"Lille\", \"country\": \"F\", \"x\": 25.672073364257812, \"y\": -1.0934414863586426}, {\"place\": \"Strasbourg\", \"country\": \"F\", \"x\": 3.9491207599639893, \"y\": 29.634815216064453}, {\"place\": \"Beaune\", \"country\": \"F\", \"x\": 5.4016523361206055, \"y\": -10.218001365661621}, {\"place\": \"Limoges\", \"country\": \"F\", \"x\": 11.673470497131348, \"y\": -11.084515571594238}, {\"place\": \"Bordeaux\", \"country\": \"F\", \"x\": 13.973695755004883, \"y\": -10.099928855895996}, {\"place\": \"Cherbourg\", \"country\": \"F\", \"x\": 8.45683479309082, \"y\": -18.198945999145508}, {\"place\": \"Nancy\", \"country\": \"F\", \"x\": 2.9095685482025146, \"y\": -7.10152006149292}, {\"place\": \"Le Havre\", \"country\": \"F\", \"x\": 0.00925680622458458, \"y\": -13.939488410949707}, {\"place\": \"Aix-en-Provence\", \"country\": \"F\", \"x\": 7.535545825958252, \"y\": -26.6939754486084}, {\"place\": \"Narbonne\", \"country\": \"F\", \"x\": 7.551782608032227, \"y\": -23.417091369628906}, {\"place\": \"Marseille\", \"country\": \"F\", \"x\": 3.748516321182251, \"y\": -23.392061233520508}, {\"place\": \"Amiens\", \"country\": \"F\", \"x\": 0.23757095634937286, \"y\": -12.679908752441406}, {\"place\": \"Clermont-Ferrand\", \"country\": \"F\", \"x\": 14.465682029724121, \"y\": -13.165104866027832}, {\"place\": \"Sarreguemines\", \"country\": \"F\", \"x\": -1.224137544631958, \"y\": 15.600247383117676}, {\"place\": \"Le Mans\", \"country\": \"F\", \"x\": 8.521669387817383, \"y\": -15.892121315002441}, {\"place\": \"Valence\", \"country\": \"F\", \"x\": 1.9116547107696533, \"y\": -20.589981079101562}, {\"place\": \"Montpellier\", \"country\": \"F\", \"x\": 15.004246711730957, \"y\": -13.79106616973877}, {\"place\": \"Courtenay\", \"country\": \"F\", \"x\": 6.871580123901367, \"y\": -11.172496795654297}, {\"place\": \"Chaumont\", \"country\": \"F\", \"x\": 2.9298622608184814, \"y\": -15.572422981262207}, {\"place\": \"Saintes\", \"country\": \"F\", \"x\": 15.215526580810547, \"y\": -18.77237892150879}, {\"place\": \"Nice\", \"country\": \"F\", \"x\": 7.114571571350098, \"y\": -28.06321907043457}, {\"place\": \"Remiremont\", \"country\": \"F\", \"x\": 5.613492965698242, \"y\": 30.7496337890625}, {\"place\": \"Dijon\", \"country\": \"F\", \"x\": 3.9586293697357178, \"y\": -6.588639259338379}, {\"place\": \"Calais\", \"country\": \"F\", \"x\": 6.098256587982178, \"y\": -14.298466682434082}, {\"place\": \"Lindau\", \"country\": \"D\", \"x\": -0.8770543336868286, \"y\": 33.63890075683594}, {\"place\": \"Krefeld\", \"country\": \"D\", \"x\": 0.36085960268974304, \"y\": 20.396108627319336}, {\"place\": \"Bad Oeynhausen\", \"country\": \"D\", \"x\": -7.44966459274292, \"y\": 16.2624454498291}, {\"place\": \"Hannover\", \"country\": \"D\", \"x\": -9.734664916992188, \"y\": 16.707170486450195}, {\"place\": \"Mannheim\", \"country\": \"D\", \"x\": -4.746440887451172, \"y\": 26.274965286254883}, {\"place\": \"Ulm\", \"country\": \"D\", \"x\": -1.8120863437652588, \"y\": 32.24315643310547}, {\"place\": \"Bremerhaven\", \"country\": \"D\", \"x\": -10.984517097473145, \"y\": 10.640380859375}, {\"place\": \"Erfurt\", \"country\": \"D\", \"x\": -13.838363647460938, \"y\": 25.22100257873535}, {\"place\": \"Waldshut\", \"country\": \"D\", \"x\": 0.903208315372467, \"y\": 33.218326568603516}, {\"place\": \"G\\u00f6ttingen\", \"country\": \"D\", \"x\": -8.733061790466309, \"y\": 17.711238861083984}, {\"place\": \"Dresden\", \"country\": \"D\", \"x\": -17.892292022705078, \"y\": 20.490127563476562}, {\"place\": \"Appenweier\", \"country\": \"D\", \"x\": 2.796233654022217, \"y\": 28.7890682220459}, {\"place\": \"Oldenburg\", \"country\": \"D\", \"x\": -8.26530647277832, \"y\": 11.547855377197266}, {\"place\": \"Bayreuth\", \"country\": \"D\", \"x\": -16.771587371826172, \"y\": 29.006959915161133}, {\"place\": \"Cuxhaven\", \"country\": \"D\", \"x\": -10.910172462463379, \"y\": 9.712654113769531}, {\"place\": \"Plauen\", \"country\": \"D\", \"x\": -14.203889846801758, \"y\": 21.273508071899414}, {\"place\": \"Wittlich\", \"country\": \"D\", \"x\": -4.996644020080566, \"y\": 20.857587814331055}, {\"place\": \"Hamburg\", \"country\": \"D\", \"x\": -12.018895149230957, \"y\": 14.61775016784668}, {\"place\": \"K\\u00f6ln\", \"country\": \"D\", \"x\": -1.8893312215805054, \"y\": 20.79949951171875}, {\"place\": \"Garmisch-Partenkirchen\", \"country\": \"D\", \"x\": -4.146608352661133, \"y\": 36.468505859375}, {\"place\": \"Emmerich\", \"country\": \"D\", \"x\": 25.164026260375977, \"y\": -23.44265365600586}, {\"place\": \"Donaueschingen\", \"country\": \"D\", \"x\": 3.794074058532715, \"y\": 26.81606674194336}, {\"place\": \"Fulda\", \"country\": \"D\", \"x\": -2.5127956867218018, \"y\": 28.869373321533203}, {\"place\": \"Passau\", \"country\": \"D\", \"x\": -7.534825325012207, \"y\": 30.71391487121582}, {\"place\": \"Gie\\u00dfen\", \"country\": \"D\", \"x\": -2.0601284503936768, \"y\": 23.437166213989258}, {\"place\": \"Karlsruhe\", \"country\": \"D\", \"x\": 1.9134553670883179, \"y\": 27.632814407348633}, {\"place\": \"Cottbus\", \"country\": \"D\", \"x\": -18.527877807617188, \"y\": 18.917768478393555}, {\"place\": \"L\\u00fcbeck\", \"country\": \"D\", \"x\": -13.648921966552734, \"y\": 14.282183647155762}, {\"place\": \"Leipzig\", \"country\": \"D\", \"x\": -15.667349815368652, \"y\": 18.957611083984375}, {\"place\": \"Bingen\", \"country\": \"D\", \"x\": -5.240211009979248, \"y\": 22.090045928955078}, {\"place\": \"Goch\", \"country\": \"D\", \"x\": 1.1265846490859985, \"y\": 20.118316650390625}, {\"place\": \"Hof\", \"country\": \"D\", \"x\": -16.89149284362793, \"y\": 27.496131896972656}, {\"place\": \"Koblenz\", \"country\": \"D\", \"x\": -3.1230266094207764, \"y\": 21.838850021362305}, {\"place\": \"Rostock\", \"country\": \"D\", \"x\": -14.985931396484375, \"y\": 14.50688362121582}, {\"place\": \"Dortmund\", \"country\": \"D\", \"x\": -5.9512939453125, \"y\": 17.19644546508789}, {\"place\": \"Gera\", \"country\": \"D\", \"x\": -15.462890625, \"y\": 24.334211349487305}, {\"place\": \"Trier\", \"country\": \"D\", \"x\": -1.3822325468063354, \"y\": 17.199478149414062}, {\"place\": \"W\\u00fcrzburg\", \"country\": \"D\", \"x\": -2.3974485397338867, \"y\": 30.359888076782227}, {\"place\": \"N\\u00fcrnberg\", \"country\": \"D\", \"x\": -5.632225513458252, \"y\": 29.6585636138916}, {\"place\": \"Stralsund\", \"country\": \"D\", \"x\": -16.498640060424805, \"y\": 13.625402450561523}, {\"place\": \"Heilbronn\", \"country\": \"D\", \"x\": -5.483862400054932, \"y\": 28.100732803344727}, {\"place\": \"Schweinfurt\", \"country\": \"D\", \"x\": -17.684003829956055, \"y\": 28.74214744567871}, {\"place\": \"Kassel\", \"country\": \"D\", \"x\": -7.6895952224731445, \"y\": 18.469270706176758}, {\"place\": \"Sa\\u00dfnitz\", \"country\": \"D\", \"x\": -16.975078582763672, \"y\": 12.945792198181152}, {\"place\": \"Wiesbaden\", \"country\": \"D\", \"x\": -4.543798446655273, \"y\": 23.28626823425293}, {\"place\": \"Chemnitz\", \"country\": \"D\", \"x\": -15.718210220336914, \"y\": 22.057586669921875}, {\"place\": \"Olpe\", \"country\": \"D\", \"x\": -1.6454888582229614, \"y\": 22.256237030029297}, {\"place\": \"Magdeburg\", \"country\": \"D\", \"x\": -12.889423370361328, \"y\": 18.09758949279785}, {\"place\": \"M\\u00fcnchen\", \"country\": \"D\", \"x\": -2.8387610912323, \"y\": 34.85266876220703}, {\"place\": \"Saarbr\\u00fccken\", \"country\": \"D\", \"x\": -0.5054311752319336, \"y\": 16.237533569335938}, {\"place\": \"Flensburg\", \"country\": \"D\", \"x\": -11.510435104370117, \"y\": 13.868172645568848}, {\"place\": \"Osnabr\\u00fcck\", \"country\": \"D\", \"x\": -7.180305004119873, \"y\": 15.175896644592285}, {\"place\": \"Bayerisch Eisenstein\", \"country\": \"D\", \"x\": -1.3703019618988037, \"y\": 36.81943130493164}, {\"place\": \"Offenburg\", \"country\": \"D\", \"x\": 3.902297019958496, \"y\": 27.541841506958008}, {\"place\": \"F\\u00fcssen\", \"country\": \"D\", \"x\": -20.169050216674805, \"y\": -21.534128189086914}, {\"place\": \"Sch\\u00f6nberg\", \"country\": \"D\", \"x\": -13.644787788391113, \"y\": 21.877456665039062}, {\"place\": \"Ludwigshafen\", \"country\": \"D\", \"x\": -6.088846683502197, \"y\": 22.141246795654297}, {\"place\": \"Herleshausen\", \"country\": \"D\", \"x\": -11.250022888183594, \"y\": 25.69290542602539}, {\"place\": \"Bad Hersfeld\", \"country\": \"D\", \"x\": -9.89616870880127, \"y\": 25.442899703979492}, {\"place\": \"Hirschberg\", \"country\": \"D\", \"x\": -16.29205322265625, \"y\": 25.92348289489746}, {\"place\": \"G\\u00f6rlitz\", \"country\": \"D\", \"x\": -18.895187377929688, \"y\": 19.979633331298828}, {\"place\": \"Memmingen\", \"country\": \"D\", \"x\": -20.340587615966797, \"y\": -21.41509246826172}, {\"place\": \"Halle\", \"country\": \"D\", \"x\": -13.31163215637207, \"y\": 19.913053512573242}, {\"place\": \"Oberhausen\", \"country\": \"D\", \"x\": 24.824077606201172, \"y\": -22.680309295654297}, {\"place\": \"Aschaffenburg\", \"country\": \"D\", \"x\": -1.9174933433532715, \"y\": 25.25883674621582}, {\"place\": \"L\\u00fcbbenau\", \"country\": \"D\", \"x\": -17.217287063598633, \"y\": 18.061738967895508}, {\"place\": \"Mittenwald\", \"country\": \"D\", \"x\": -4.750101089477539, \"y\": 36.986419677734375}, {\"place\": \"Cloppenburg\", \"country\": \"D\", \"x\": -8.568805694580078, \"y\": 10.226568222045898}, {\"place\": \"Stuttgart\", \"country\": \"D\", \"x\": -1.2415902614593506, \"y\": 30.734338760375977}, {\"place\": \"Regensburg\", \"country\": \"D\", \"x\": -6.88767671585083, \"y\": 30.288558959960938}, {\"place\": \"Eisenach\", \"country\": \"D\", \"x\": -12.4507417678833, \"y\": 25.637798309326172}, {\"place\": \"Aachen\", \"country\": \"D\", \"x\": -3.15366530418396, \"y\": 19.387950897216797}, {\"place\": \"Frankfurt am Main\", \"country\": \"D\", \"x\": -2.9958529472351074, \"y\": 24.444562911987305}, {\"place\": \"Marktredwitz\", \"country\": \"D\", \"x\": -17.52664566040039, \"y\": 29.9478816986084}, {\"place\": \"Hasel\\u00fcnne\", \"country\": \"D\", \"x\": -7.533428192138672, \"y\": 10.211660385131836}, {\"place\": \"Braunschweig\", \"country\": \"D\", \"x\": -11.402307510375977, \"y\": 17.363563537597656}, {\"place\": \"Deggendorf\", \"country\": \"D\", \"x\": -1.9232087135314941, \"y\": 36.17591094970703}, {\"place\": \"Berlin\", \"country\": \"D\", \"x\": -15.762639999389648, \"y\": 16.937145233154297}, {\"place\": \"Rosenheim\", \"country\": \"D\", \"x\": -4.163349151611328, \"y\": 34.79030990600586}, {\"place\": \"Bremen\", \"country\": \"D\", \"x\": -9.680505752563477, \"y\": 11.962483406066895}, {\"place\": \"Neubrandenburg\", \"country\": \"D\", \"x\": -16.18800926208496, \"y\": 15.093985557556152}, {\"place\": \"Walsrode\", \"country\": \"D\", \"x\": -9.819257736206055, \"y\": 11.001443862915039}, {\"place\": \"Heidelberg\", \"country\": \"D\", \"x\": 0.18549363315105438, \"y\": 26.359352111816406}, {\"place\": \"Asti\", \"country\": \"I\", \"x\": 4.997759819030762, \"y\": -29.77098274230957}, {\"place\": \"Firenze\", \"country\": \"I\", \"x\": 25.542139053344727, \"y\": 24.39350700378418}, {\"place\": \"Tarvisio\", \"country\": \"I\", \"x\": 18.635820388793945, \"y\": 11.304553031921387}, {\"place\": \"Cesena\", \"country\": \"I\", \"x\": 24.219388961791992, \"y\": 15.744359016418457}, {\"place\": \"Perugia\", \"country\": \"I\", \"x\": 25.44462776184082, \"y\": 16.391483306884766}, {\"place\": \"Palmanova\", \"country\": \"I\", \"x\": 21.00389862060547, \"y\": 11.330591201782227}, {\"place\": \"Piacenza\", \"country\": \"I\", \"x\": 4.9245381355285645, \"y\": -36.54912567138672}, {\"place\": \"Parma\", \"country\": \"I\", \"x\": 6.56747579574585, \"y\": -36.504791259765625}, {\"place\": \"San Cesareo\", \"country\": \"I\", \"x\": 26.294904708862305, \"y\": 18.71442222595215}, {\"place\": \"Spezzano Albanese\", \"country\": \"I\", \"x\": 9.01113224029541, \"y\": 19.054460525512695}, {\"place\": \"Fiano Romana\", \"country\": \"I\", \"x\": 26.143226623535156, \"y\": 17.41362190246582}, {\"place\": \"Grosseto\", \"country\": \"I\", \"x\": 26.378997802734375, \"y\": 22.34611701965332}, {\"place\": \"Roma\", \"country\": \"I\", \"x\": 25.723928451538086, \"y\": 21.179990768432617}, {\"place\": \"Savona\", \"country\": \"I\", \"x\": 5.52512788772583, \"y\": -31.6190242767334}, {\"place\": \"Crotone\", \"country\": \"I\", \"x\": 8.93764591217041, \"y\": 16.80760955810547}, {\"place\": \"Trento\", \"country\": \"I\", \"x\": 24.860811233520508, \"y\": 10.21424674987793}, {\"place\": \"Buonfornello\", \"country\": \"I\", \"x\": 9.991012573242188, \"y\": 11.323588371276855}, {\"place\": \"Avellino\", \"country\": \"I\", \"x\": 16.622722625732422, \"y\": 19.03403091430664}, {\"place\": \"Brindisi\", \"country\": \"I\", \"x\": 12.370418548583984, \"y\": 23.745210647583008}, {\"place\": \"Enna\", \"country\": \"I\", \"x\": 8.932191848754883, \"y\": 11.123942375183105}, {\"place\": \"Trapani\", \"country\": \"I\", \"x\": 11.764071464538574, \"y\": 8.252397537231445}, {\"place\": \"Genova\", \"country\": \"I\", \"x\": 5.295843601226807, \"y\": -33.171958923339844}, {\"place\": \"Napoli\", \"country\": \"I\", \"x\": 17.10103988647461, \"y\": 18.086700439453125}, {\"place\": \"Ven\\u00e9zia-Mestre\", \"country\": \"I\", \"x\": 21.94365692138672, \"y\": 12.100301742553711}, {\"place\": \"La Spezia\", \"country\": \"I\", \"x\": 7.077297687530518, \"y\": -35.2189826965332}, {\"place\": \"Reggio di Calabria\", \"country\": \"I\", \"x\": 7.793649673461914, \"y\": 14.037731170654297}, {\"place\": \"Vercelli\", \"country\": \"I\", \"x\": 2.8634886741638184, \"y\": -30.838830947875977}, {\"place\": \"Canosa di Puglia\", \"country\": \"I\", \"x\": 18.218605041503906, \"y\": 21.4383544921875}, {\"place\": \"Modena\", \"country\": \"I\", \"x\": 21.607751846313477, \"y\": 14.991938591003418}, {\"place\": \"Passo di Brennero\", \"country\": \"I\", \"x\": 26.14893913269043, \"y\": 7.291621208190918}, {\"place\": \"Rimini\", \"country\": \"I\", \"x\": 23.297100067138672, \"y\": 17.746915817260742}, {\"place\": \"Cat\\u00e1nia\", \"country\": \"I\", \"x\": 7.939861297607422, \"y\": 10.866198539733887}, {\"place\": \"Cosenza\", \"country\": \"I\", \"x\": 10.546046257019043, \"y\": 16.099653244018555}, {\"place\": \"Ventimiglia\", \"country\": \"I\", \"x\": 7.074577808380127, \"y\": -29.503559112548828}, {\"place\": \"Bologna\", \"country\": \"I\", \"x\": 23.003887176513672, \"y\": 15.41787338256836}, {\"place\": \"Potenza\", \"country\": \"I\", \"x\": 11.615179061889648, \"y\": 18.31976318359375}, {\"place\": \"Mazara del Vallo\", \"country\": \"I\", \"x\": 9.948482513427734, \"y\": 7.031527042388916}, {\"place\": \"Gela\", \"country\": \"I\", \"x\": 8.734613418579102, \"y\": 7.868320941925049}, {\"place\": \"Susa\", \"country\": \"I\", \"x\": 2.6596953868865967, \"y\": -25.855531692504883}, {\"place\": \"Aosta\", \"country\": \"I\", \"x\": -0.0739198625087738, \"y\": -29.222946166992188}, {\"place\": \"Bolzano\", \"country\": \"I\", \"x\": 25.228796005249023, \"y\": 8.9785737991333}, {\"place\": \"Cuneo\", \"country\": \"I\", \"x\": 5.930661678314209, \"y\": -28.565879821777344}, {\"place\": \"Sicignano degli Alburni\", \"country\": \"I\", \"x\": 12.441996574401855, \"y\": 17.346282958984375}, {\"place\": \"Siracusa\", \"country\": \"I\", \"x\": 8.1485595703125, \"y\": 9.107803344726562}, {\"place\": \"Metaponto\", \"country\": \"I\", \"x\": 10.833691596984863, \"y\": 19.598752975463867}, {\"place\": \"Fortezza\", \"country\": \"I\", \"x\": 25.314451217651367, \"y\": 7.698990345001221}, {\"place\": \"Milano\", \"country\": \"I\", \"x\": 3.0659377574920654, \"y\": -35.593048095703125}, {\"place\": \"Arezzo\", \"country\": \"I\", \"x\": 25.162830352783203, \"y\": 22.518733978271484}, {\"place\": \"Sansepolcro\", \"country\": \"I\", \"x\": 23.687891006469727, \"y\": 21.174171447753906}, {\"place\": \"San Candido\", \"country\": \"I\", \"x\": 24.635766983032227, \"y\": 6.99675989151001}, {\"place\": \"Brescia\", \"country\": \"I\", \"x\": 4.186407566070557, \"y\": -35.20475387573242}, {\"place\": \"Palermo\", \"country\": \"I\", \"x\": 10.982514381408691, \"y\": 9.692825317382812}, {\"place\": \"Alcamo\", \"country\": \"I\", \"x\": 10.984101295471191, \"y\": 8.153663635253906}, {\"place\": \"Udine\", \"country\": \"I\", \"x\": 19.45761489868164, \"y\": 11.432676315307617}, {\"place\": \"Torino\", \"country\": \"I\", \"x\": 2.742419719696045, \"y\": -32.21982192993164}, {\"place\": \"Ravenna\", \"country\": \"I\", \"x\": 23.54561996459961, \"y\": 13.88956356048584}, {\"place\": \"Como\", \"country\": \"I\", \"x\": 2.8981642723083496, \"y\": -36.950321197509766}, {\"place\": \"Villa San Giovanni\", \"country\": \"I\", \"x\": 9.72276496887207, \"y\": 14.200360298156738}, {\"place\": \"Catanzaro\", \"country\": \"I\", \"x\": 7.6210856437683105, \"y\": 15.565176010131836}, {\"place\": \"Sant'Eufemia Lamezia\", \"country\": \"I\", \"x\": 6.772983551025391, \"y\": 15.411229133605957}, {\"place\": \"Alessandria\", \"country\": \"I\", \"x\": 4.1046223640441895, \"y\": -32.055416107177734}, {\"place\": \"Gravellona Toce\", \"country\": \"I\", \"x\": 1.7950412034988403, \"y\": -35.72287368774414}, {\"place\": \"Pescara\", \"country\": \"I\", \"x\": 20.900253295898438, \"y\": 21.381072998046875}, {\"place\": \"Messina\", \"country\": \"I\", \"x\": 8.780296325683594, \"y\": 12.532984733581543}, {\"place\": \"Migliarino\", \"country\": \"I\", \"x\": 26.65237045288086, \"y\": 25.065168380737305}, {\"place\": \"Ancona\", \"country\": \"I\", \"x\": 21.943559646606445, \"y\": 20.62051010131836}, {\"place\": \"Ivrea\", \"country\": \"I\", \"x\": 1.652243733406067, \"y\": -30.530200958251953}, {\"place\": \"Salerno\", \"country\": \"I\", \"x\": 15.889655113220215, \"y\": 18.17034149169922}, {\"place\": \"Benevento\", \"country\": \"I\", \"x\": 17.443069458007812, \"y\": 20.356773376464844}, {\"place\": \"Verona\", \"country\": \"I\", \"x\": 24.03510093688965, \"y\": 11.505982398986816}, {\"place\": \"Livorno\", \"country\": \"I\", \"x\": 26.803895950317383, \"y\": 23.739545822143555}, {\"place\": \"Trieste\", \"country\": \"I\", \"x\": 20.882369995117188, \"y\": 9.998978614807129}, {\"place\": \"Fano\", \"country\": \"I\", \"x\": 22.83919334411621, \"y\": 19.722501754760742}, {\"place\": \"Sibari\", \"country\": \"I\", \"x\": 9.614880561828613, \"y\": 18.468381881713867}, {\"place\": \"Taranto\", \"country\": \"I\", \"x\": 12.414192199707031, \"y\": 22.457881927490234}, {\"place\": \"Tortona\", \"country\": \"I\", \"x\": 3.8217666149139404, \"y\": -33.91443634033203}, {\"place\": \"Bari\", \"country\": \"I\", \"x\": 13.47602367401123, \"y\": 23.025358200073242}, {\"place\": \"It\\u00e9a\", \"country\": \"GR\", \"x\": -28.378196716308594, \"y\": 8.550606727600098}, {\"place\": \"Almir\\u00f3s\", \"country\": \"GR\", \"x\": -32.06808853149414, \"y\": 6.861435890197754}, {\"place\": \"Br\\u00e1los\", \"country\": \"GR\", \"x\": -29.43619728088379, \"y\": 7.430715084075928}, {\"place\": \"Mesol\\u00f3ngi\", \"country\": \"GR\", \"x\": -24.560861587524414, \"y\": 12.291545867919922}, {\"place\": \"P\\u00edrgos\", \"country\": \"GR\", \"x\": -23.52394676208496, \"y\": 7.0207200050354}, {\"place\": \"P\\u00e1tra\", \"country\": \"GR\", \"x\": -24.116268157958984, \"y\": 8.417365074157715}, {\"place\": \"Io\\u00e1nnina\", \"country\": \"GR\", \"x\": -24.864242553710938, \"y\": 16.319028854370117}, {\"place\": \"Chani\\u00e1\", \"country\": \"GR\", \"x\": -26.318967819213867, \"y\": 3.2898941040039062}, {\"place\": \"Kristalopig\\u00ed\", \"country\": \"GR\", \"x\": -33.551029205322266, \"y\": 15.144624710083008}, {\"place\": \"Elefs\\u00edna\", \"country\": \"GR\", \"x\": -3.1356239318847656, \"y\": -22.823612213134766}, {\"place\": \"Th\\u00edva\", \"country\": \"GR\", \"x\": -3.0973503589630127, \"y\": -22.619037628173828}, {\"place\": \"Antirrio\", \"country\": \"GR\", \"x\": -27.139211654663086, \"y\": 9.174774169921875}, {\"place\": \"Ath\\u00edna\", \"country\": \"GR\", \"x\": -27.431171417236328, \"y\": 4.5482001304626465}, {\"place\": \"Kiss\\u00e1mos\", \"country\": \"GR\", \"x\": -25.168338775634766, \"y\": 3.911860227584839}, {\"place\": \"Tr\\u00edpoli\", \"country\": \"GR\", \"x\": -23.581876754760742, \"y\": 4.260067462921143}, {\"place\": \"Alexandropo\\u00fali\", \"country\": \"GR\", \"x\": -17.757240295410156, \"y\": -2.4005227088928223}, {\"place\": \"G\\u00e9fira\", \"country\": \"GR\", \"x\": -32.69961929321289, \"y\": 13.971553802490234}, {\"place\": \"\\u00c1gios Nik\\u00f3laos\", \"country\": \"GR\", \"x\": 2.4748971462249756, \"y\": 0.24754215776920319}, {\"place\": \"V\\u00e9vi\", \"country\": \"GR\", \"x\": -33.464080810546875, \"y\": 13.175061225891113}, {\"place\": \"Domok\\u00f3s\", \"country\": \"GR\", \"x\": -32.54561996459961, \"y\": 6.082058906555176}, {\"place\": \"Kal\\u00e1mata\", \"country\": \"GR\", \"x\": -23.960477828979492, \"y\": 5.4251627922058105}, {\"place\": \"Igoumen\\u00edtsa\", \"country\": \"GR\", \"x\": -25.941944122314453, \"y\": 15.61392879486084}, {\"place\": \"Ir\\u00e1klio\", \"country\": \"GR\", \"x\": 1.563888430595398, \"y\": 0.8300123810768127}, {\"place\": \"Tr\\u00edkala\", \"country\": \"GR\", \"x\": -25.053939819335938, \"y\": 17.623779296875}, {\"place\": \"Sit\\u00eda\", \"country\": \"GR\", \"x\": 2.8340117931365967, \"y\": 0.887681245803833}, {\"place\": \"Orm\\u00e9nio\", \"country\": \"GR\", \"x\": -18.199674606323242, \"y\": 0.4778948724269867}, {\"place\": \"Kastanies\", \"country\": \"GR\", \"x\": -18.619874954223633, \"y\": -0.34009766578674316}, {\"place\": \"V\\u00f3los\", \"country\": \"GR\", \"x\": -24.5096435546875, \"y\": 18.085857391357422}, {\"place\": \"S\\u00e9res\", \"country\": \"GR\", \"x\": -36.038726806640625, \"y\": 7.132931232452393}, {\"place\": \"\\u00c9vzoni\", \"country\": \"GR\", \"x\": -36.42947006225586, \"y\": 8.587817192077637}, {\"place\": \"R\\u00edo\", \"country\": \"GR\", \"x\": -25.424915313720703, \"y\": 9.316667556762695}, {\"place\": \"Didimoticho\", \"country\": \"GR\", \"x\": -18.52567481994629, \"y\": -1.4641190767288208}, {\"place\": \"Koz\\u00e1ni\", \"country\": \"GR\", \"x\": -34.18129348754883, \"y\": 9.325400352478027}, {\"place\": \"Aktio\", \"country\": \"GR\", \"x\": -31.402847290039062, \"y\": 0.4207276701927185}, {\"place\": \"Pr\\u00e9veza\", \"country\": \"GR\", \"x\": -25.26898765563965, \"y\": 13.798932075500488}, {\"place\": \"Thessalon\\u00edki\", \"country\": \"GR\", \"x\": -35.335426330566406, \"y\": 8.133920669555664}, {\"place\": \"Sp\\u00e1rti\", \"country\": \"GR\", \"x\": -22.398468017578125, \"y\": 3.8069019317626953}, {\"place\": \"Lam\\u00eda\", \"country\": \"GR\", \"x\": -30.893922805786133, \"y\": 5.654449462890625}, {\"place\": \"L\\u00e1rissa\", \"country\": \"GR\", \"x\": -33.70159149169922, \"y\": 7.551154613494873}, {\"place\": \"\\u00c1rta\", \"country\": \"GR\", \"x\": -24.11676025390625, \"y\": 14.834554672241211}, {\"place\": \"\\u00c9gio\", \"country\": \"GR\", \"x\": -25.714595794677734, \"y\": 7.503617286682129}, {\"place\": \"Agr\\u00ednio\", \"country\": \"GR\", \"x\": -23.908292770385742, \"y\": 13.374635696411133}, {\"place\": \"G\\u00edthio\", \"country\": \"GR\", \"x\": -22.499479293823242, \"y\": 3.045156240463257}, {\"place\": \"N\\u00edki\", \"country\": \"GR\", \"x\": -32.30888366699219, \"y\": 12.842792510986328}, {\"place\": \"V\\u00f3nitsa\", \"country\": \"GR\", \"x\": -32.02052688598633, \"y\": 0.8660529851913452}, {\"place\": \"Fl\\u00f3rina\", \"country\": \"GR\", \"x\": -33.9877815246582, \"y\": 14.348506927490234}, {\"place\": \"Karpen\\u00edsi\", \"country\": \"GR\", \"x\": -31.26824378967285, \"y\": 3.371971607208252}, {\"place\": \"Amfiloch\\u00eda\", \"country\": \"GR\", \"x\": -31.452762603759766, \"y\": 1.8100802898406982}, {\"place\": \"Korinthos\", \"country\": \"GR\", \"x\": -25.940969467163086, \"y\": 5.661746025085449}, {\"place\": \"Trabzon\", \"country\": \"TR\", \"x\": 0.17585411667823792, \"y\": 5.712768077850342}, {\"place\": \"Ordu\", \"country\": \"TR\", \"x\": 2.2064261436462402, \"y\": 7.265546798706055}, {\"place\": \"Ke\\u015fan\", \"country\": \"TR\", \"x\": -13.680741310119629, \"y\": -2.8461215496063232}, {\"place\": \"Aydin\", \"country\": \"TR\", \"x\": 15.764236450195312, \"y\": -26.0649356842041}, {\"place\": \"Gazi Antep\", \"country\": \"TR\", \"x\": -17.45001983642578, \"y\": -13.361969947814941}, {\"place\": \"Eceabat\", \"country\": \"TR\", \"x\": -12.45781421661377, \"y\": -6.1626877784729}, {\"place\": \"Antalya\", \"country\": \"TR\", \"x\": 19.101943969726562, \"y\": -26.82573127746582}, {\"place\": \"Ankara\", \"country\": \"TR\", \"x\": -6.344161510467529, \"y\": -3.3879706859588623}, {\"place\": \"Yaylada\\u011fi\", \"country\": \"TR\", \"x\": -22.599632263183594, \"y\": -9.29960823059082}, {\"place\": \"Sanli Urfa\", \"country\": \"TR\", \"x\": -16.435155868530273, \"y\": -14.777782440185547}, {\"place\": \"Reyhanli\", \"country\": \"TR\", \"x\": -20.728473663330078, \"y\": -8.125541687011719}, {\"place\": \"A\\u011fri\", \"country\": \"TR\", \"x\": -3.826791763305664, \"y\": 6.638236999511719}, {\"place\": \"Yozgat\", \"country\": \"TR\", \"x\": -6.037330627441406, \"y\": -1.5239334106445312}, {\"place\": \"Sivrihisar\", \"country\": \"TR\", \"x\": -7.617491722106934, \"y\": -5.24399471282959}, {\"place\": \"Do\\u011fubayazit\", \"country\": \"TR\", \"x\": -12.28646183013916, \"y\": -14.57231330871582}, {\"place\": \"Sivas\", \"country\": \"TR\", \"x\": -5.216494083404541, \"y\": 0.07689238339662552}, {\"place\": \"Giresun\", \"country\": \"TR\", \"x\": 1.1869415044784546, \"y\": 6.399785995483398}, {\"place\": \"Antakya\", \"country\": \"TR\", \"x\": -22.048505783081055, \"y\": -10.172829627990723}, {\"place\": \"Ilgaz\", \"country\": \"TR\", \"x\": -2.5168752670288086, \"y\": -1.7727580070495605}, {\"place\": \"Izmir\", \"country\": \"TR\", \"x\": -9.145489692687988, \"y\": -8.843936920166016}, {\"place\": \"Topbo\\u011fazi\", \"country\": \"TR\", \"x\": -20.801841735839844, \"y\": -10.503800392150879}, {\"place\": \"Nusaybin\", \"country\": \"TR\", \"x\": -16.970134735107422, \"y\": -16.16866683959961}, {\"place\": \"Izmit\", \"country\": \"TR\", \"x\": -9.250138282775879, \"y\": 1.7258968353271484}, {\"place\": \"Babaeski\", \"country\": \"TR\", \"x\": -13.537286758422852, \"y\": 1.1998744010925293}, {\"place\": \"Cizre\", \"country\": \"TR\", \"x\": -17.507125854492188, \"y\": -17.186017990112305}, {\"place\": \"Kirklareli\", \"country\": \"TR\", \"x\": -13.295010566711426, \"y\": 2.9728145599365234}, {\"place\": \"\\u00c7anakkale\", \"country\": \"TR\", \"x\": -11.622528076171875, \"y\": -7.371058464050293}, {\"place\": \"Eski\\u015fehir\", \"country\": \"TR\", \"x\": -8.9275484085083, \"y\": -4.740964889526367}, {\"place\": \"Diyarbakir\", \"country\": \"TR\", \"x\": -14.881300926208496, \"y\": -14.656524658203125}, {\"place\": \"Toprakkale\", \"country\": \"TR\", \"x\": -18.076248168945312, \"y\": -11.911247253417969}, {\"place\": \"Denizli\", \"country\": \"TR\", \"x\": 16.71125030517578, \"y\": -26.781843185424805}, {\"place\": \"Ayvalik\", \"country\": \"TR\", \"x\": -10.49410629272461, \"y\": -8.281209945678711}, {\"place\": \"Bolu\", \"country\": \"TR\", \"x\": -2.72975754737854, \"y\": -3.6897623538970947}, {\"place\": \"Sel\\u00e7uk\", \"country\": \"TR\", \"x\": -8.396626472473145, \"y\": -9.959012985229492}, {\"place\": \"Adana\", \"country\": \"TR\", \"x\": -17.13115692138672, \"y\": -10.936813354492188}, {\"place\": \"Amasya\", \"country\": \"TR\", \"x\": -2.425114870071411, \"y\": -0.5446385741233826}, {\"place\": \"Afyon\", \"country\": \"TR\", \"x\": -7.679986953735352, \"y\": -6.672077655792236}, {\"place\": \"Gerede\", \"country\": \"TR\", \"x\": -3.3717308044433594, \"y\": -2.811532974243164}, {\"place\": \"Aksaray\", \"country\": \"TR\", \"x\": -16.001720428466797, \"y\": -9.991707801818848}, {\"place\": \"Niksar\", \"country\": \"TR\", \"x\": -3.1450228691101074, \"y\": 0.5198895931243896}, {\"place\": \"Acipayam\", \"country\": \"TR\", \"x\": 17.876073837280273, \"y\": -26.639223098754883}, {\"place\": \"Silivri\", \"country\": \"TR\", \"x\": -12.1013822555542, \"y\": 0.6173778176307678}, {\"place\": \"Kirikhan\", \"country\": \"TR\", \"x\": -20.508132934570312, \"y\": -9.218676567077637}, {\"place\": \"Refahiye\", \"country\": \"TR\", \"x\": -4.1725873947143555, \"y\": 1.3308957815170288}, {\"place\": \"G\\u00fcrbulak\", \"country\": \"TR\", \"x\": -3.993664503097534, \"y\": 7.34721565246582}, {\"place\": \"Iskenderun\", \"country\": \"TR\", \"x\": -19.491180419921875, \"y\": -11.340392112731934}, {\"place\": \"Samsun\", \"country\": \"TR\", \"x\": 2.795050621032715, \"y\": 8.426989555358887}, {\"place\": \"Ipsala\", \"country\": \"TR\", \"x\": -15.982193946838379, \"y\": -2.7871475219726562}, {\"place\": \"Edirne\", \"country\": \"TR\", \"x\": -14.863764762878418, \"y\": 1.3778369426727295}, {\"place\": \"Derek\\u00f6y\", \"country\": \"TR\", \"x\": -13.106893539428711, \"y\": 3.7672250270843506}, {\"place\": \"Gelibolu\", \"country\": \"TR\", \"x\": -13.024478912353516, \"y\": -4.238174915313721}, {\"place\": \"Usak\", \"country\": \"TR\", \"x\": -8.094844818115234, \"y\": -7.886202812194824}, {\"place\": \"Havza\", \"country\": \"TR\", \"x\": -13.748805046081543, \"y\": -0.6645147204399109}, {\"place\": \"Cilveg\\u00f6z\\u00fc\", \"country\": \"TR\", \"x\": -21.66381072998047, \"y\": -7.928169250488281}, {\"place\": \"Askale\", \"country\": \"TR\", \"x\": -2.5095767974853516, \"y\": 4.517073631286621}, {\"place\": \"G\\u00fcm\\u00fcshane\", \"country\": \"TR\", \"x\": -1.078959584236145, \"y\": 5.092656135559082}, {\"place\": \"Adapazari\", \"country\": \"TR\", \"x\": -8.22368049621582, \"y\": 1.3103938102722168}, {\"place\": \"Korkuteli\", \"country\": \"TR\", \"x\": 18.57088279724121, \"y\": -27.490341186523438}, {\"place\": \"Kizilcahamam\", \"country\": \"TR\", \"x\": -4.727696895599365, \"y\": -3.438077926635742}, {\"place\": \"Erzurum\", \"country\": \"TR\", \"x\": -3.287151575088501, \"y\": 5.645336627960205}, {\"place\": \"Tekirdag\", \"country\": \"TR\", \"x\": -12.66053581237793, \"y\": -1.0541489124298096}, {\"place\": \"Bitlis\", \"country\": \"TR\", \"x\": -13.556598663330078, \"y\": -14.565177917480469}, {\"place\": \"Istanbul\", \"country\": \"TR\", \"x\": -10.414549827575684, \"y\": 1.4410068988800049}, {\"place\": \"Lapseki\", \"country\": \"TR\", \"x\": -11.372879028320312, \"y\": -4.345217704772949}, {\"place\": \"Bursa\", \"country\": \"TR\", \"x\": -10.080034255981445, \"y\": -4.374260902404785}, {\"place\": \"Habur\", \"country\": \"TR\", \"x\": -17.990516662597656, \"y\": -17.714435577392578}, {\"place\": \"Merzifon\", \"country\": \"TR\", \"x\": 3.3127825260162354, \"y\": 7.982192516326904}, {\"place\": \"Muradiye\", \"country\": \"TR\", \"x\": -12.71158504486084, \"y\": -13.889415740966797}, {\"place\": \"Erzincan\", \"country\": \"TR\", \"x\": -3.3244478702545166, \"y\": 3.0049729347229004}]}}, {\"mode\": \"vega-lite\"});\n",
       "</script>"
      ],
      "text/plain": [
       "alt.Chart(...)"
      ]
     },
     "execution_count": 30,
     "metadata": {},
     "output_type": "execute_result"
    }
   ],
   "source": [
    "alt.Chart(tsne_df).mark_circle(size=60).encode(\n",
    "    x='x',\n",
    "    y='y',\n",
    "    color='country',\n",
    "    tooltip=['place', 'country']\n",
    ").properties(width=700, height=400)"
   ]
  },
  {
   "cell_type": "markdown",
   "id": "a3aa2f1e-f9ef-408a-a6cf-4de1ce68d065",
   "metadata": {},
   "source": [
    "## A comment on the above\n",
    "\n",
    "The visible separation of the clusters changes with the number of embedding dimensions used.  You should try different values to see how the above plot changes."
   ]
  },
  {
   "cell_type": "code",
   "execution_count": null,
   "id": "344b07e9-769a-4aca-b2e7-c53ef10758c4",
   "metadata": {},
   "outputs": [],
   "source": []
  }
 ],
 "metadata": {
  "kernelspec": {
   "display_name": "Python 3 (ipykernel)",
   "language": "python",
   "name": "python3"
  },
  "language_info": {
   "codemirror_mode": {
    "name": "ipython",
    "version": 3
   },
   "file_extension": ".py",
   "mimetype": "text/x-python",
   "name": "python",
   "nbconvert_exporter": "python",
   "pygments_lexer": "ipython3",
   "version": "3.9.7"
  }
 },
 "nbformat": 4,
 "nbformat_minor": 5
}
